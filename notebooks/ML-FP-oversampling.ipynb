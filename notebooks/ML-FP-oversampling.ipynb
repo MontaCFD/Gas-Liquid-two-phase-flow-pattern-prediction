{
 "cells": [
  {
   "cell_type": "code",
   "execution_count": 29,
   "id": "4306e1f4",
   "metadata": {},
   "outputs": [
    {
     "data": {
      "text/plain": [
       "'===============================================================================================================\\n - Author: M. Guesmi\\n - Adress: Chair of process engineering TU Dresden, George-Bähr-Straße 3b, 01069 Dresden, Germany\\n - Summary: test different machine learning models to classfiy flow pattern based on operational and geometrical features \\n=================================================================================================================='"
      ]
     },
     "execution_count": 29,
     "metadata": {},
     "output_type": "execute_result"
    }
   ],
   "source": [
    "#! /usr/bin/env python3\n",
    "'''===============================================================================================================\n",
    " - Author: M. Guesmi\n",
    " - Adress: Chair of process engineering TU Dresden, George-Bähr-Straße 3b, 01069 Dresden, Germany\n",
    " - Summary: test different machine learning models to classfiy flow pattern based on operational and geometrical features \n",
    "=================================================================================================================='''"
   ]
  },
  {
   "cell_type": "code",
   "execution_count": 52,
   "id": "b9835fbf",
   "metadata": {
    "tags": []
   },
   "outputs": [],
   "source": [
    "import numpy as np     # linear algebra\n",
    "import pandas as pd     \n",
    "import seaborn as sns\n",
    "import os\n",
    "import matplotlib.pyplot as plt\n",
    "from sklearn.datasets import load_iris\n",
    "from sklearn.model_selection import train_test_split\n",
    "import imblearn\n",
    "# ML models \n",
    "from xgboost import XGBClassifier\n",
    "from sklearn.linear_model import LogisticRegression\n",
    "from sklearn.tree import DecisionTreeClassifier\n",
    "from sklearn.ensemble import RandomForestClassifier\n",
    "from sklearn.svm import SVC\n",
    "# Evaluation metrics\n",
    "from sklearn.metrics import accuracy_score \n",
    "from sklearn.metrics import precision_recall_curve\n",
    "from sklearn.metrics import confusion_matrix\n",
    "from sklearn.metrics import classification_report\n",
    "from sklearn.metrics import cohen_kappa_score\n",
    "\n",
    "from sklearn.model_selection import GridSearchCV\n",
    "\n",
    "from sklearn.preprocessing import LabelBinarizer\n",
    "import pickle\n",
    "from tabulate import tabulate\n",
    "from IPython.display import display, HTML\n",
    "from imblearn.over_sampling import RandomOverSampler, SMOTE, ADASYN, BorderlineSMOTE, SVMSMOTE # for oversampling of minor classes\n",
    "from collections import Counter\n",
    "\n",
    "# import joblib to import model to file\n",
    "import joblib"
   ]
  },
  {
   "cell_type": "code",
   "execution_count": 53,
   "id": "d5d77fe7",
   "metadata": {},
   "outputs": [],
   "source": [
    "import warnings\n",
    "warnings.filterwarnings(\"ignore\", category=FutureWarning)\n",
    "# Ignore the UserWarning\n",
    "warnings.filterwarnings(\"ignore\", category=UserWarning)"
   ]
  },
  {
   "cell_type": "code",
   "execution_count": 54,
   "id": "e7d55313",
   "metadata": {
    "tags": []
   },
   "outputs": [],
   "source": [
    "df = pd.read_csv('training_test_data.csv',sep=',')"
   ]
  },
  {
   "cell_type": "code",
   "execution_count": 55,
   "id": "ead63948",
   "metadata": {
    "tags": []
   },
   "outputs": [
    {
     "data": {
      "text/html": [
       "<div>\n",
       "<style scoped>\n",
       "    .dataframe tbody tr th:only-of-type {\n",
       "        vertical-align: middle;\n",
       "    }\n",
       "\n",
       "    .dataframe tbody tr th {\n",
       "        vertical-align: top;\n",
       "    }\n",
       "\n",
       "    .dataframe thead th {\n",
       "        text-align: right;\n",
       "    }\n",
       "</style>\n",
       "<table border=\"1\" class=\"dataframe\">\n",
       "  <thead>\n",
       "    <tr style=\"text-align: right;\">\n",
       "      <th></th>\n",
       "      <th>Vsl</th>\n",
       "      <th>Vsg</th>\n",
       "      <th>DenL</th>\n",
       "      <th>DenG</th>\n",
       "      <th>VisL</th>\n",
       "      <th>VisG</th>\n",
       "      <th>ST</th>\n",
       "      <th>ID</th>\n",
       "      <th>Ang</th>\n",
       "      <th>Flow_label</th>\n",
       "    </tr>\n",
       "  </thead>\n",
       "  <tbody>\n",
       "    <tr>\n",
       "      <th>count</th>\n",
       "      <td>3523.000000</td>\n",
       "      <td>3523.000000</td>\n",
       "      <td>3523.000000</td>\n",
       "      <td>3523.000000</td>\n",
       "      <td>3523.000000</td>\n",
       "      <td>3.523000e+03</td>\n",
       "      <td>3523.000000</td>\n",
       "      <td>3523.000000</td>\n",
       "      <td>3523.000000</td>\n",
       "      <td>3523.000000</td>\n",
       "    </tr>\n",
       "    <tr>\n",
       "      <th>mean</th>\n",
       "      <td>0.902791</td>\n",
       "      <td>6.836029</td>\n",
       "      <td>963.239290</td>\n",
       "      <td>3.705230</td>\n",
       "      <td>0.012039</td>\n",
       "      <td>1.317070e-05</td>\n",
       "      <td>0.065915</td>\n",
       "      <td>0.046693</td>\n",
       "      <td>0.333272</td>\n",
       "      <td>2.458132</td>\n",
       "    </tr>\n",
       "    <tr>\n",
       "      <th>std</th>\n",
       "      <td>1.351430</td>\n",
       "      <td>13.410838</td>\n",
       "      <td>146.653889</td>\n",
       "      <td>6.519686</td>\n",
       "      <td>0.071802</td>\n",
       "      <td>4.577323e-06</td>\n",
       "      <td>0.013631</td>\n",
       "      <td>0.025207</td>\n",
       "      <td>4.193035</td>\n",
       "      <td>1.035510</td>\n",
       "    </tr>\n",
       "    <tr>\n",
       "      <th>min</th>\n",
       "      <td>0.000241</td>\n",
       "      <td>0.014967</td>\n",
       "      <td>77.041602</td>\n",
       "      <td>0.125000</td>\n",
       "      <td>0.000012</td>\n",
       "      <td>5.070000e-07</td>\n",
       "      <td>0.015000</td>\n",
       "      <td>0.008740</td>\n",
       "      <td>-10.000000</td>\n",
       "      <td>0.000000</td>\n",
       "    </tr>\n",
       "    <tr>\n",
       "      <th>25%</th>\n",
       "      <td>0.033713</td>\n",
       "      <td>0.400000</td>\n",
       "      <td>1000.000000</td>\n",
       "      <td>1.180000</td>\n",
       "      <td>0.001000</td>\n",
       "      <td>1.500000e-05</td>\n",
       "      <td>0.070000</td>\n",
       "      <td>0.025000</td>\n",
       "      <td>0.000000</td>\n",
       "      <td>2.000000</td>\n",
       "    </tr>\n",
       "    <tr>\n",
       "      <th>50%</th>\n",
       "      <td>0.250000</td>\n",
       "      <td>1.969150</td>\n",
       "      <td>1000.000000</td>\n",
       "      <td>1.180000</td>\n",
       "      <td>0.001000</td>\n",
       "      <td>1.500000e-05</td>\n",
       "      <td>0.070000</td>\n",
       "      <td>0.051000</td>\n",
       "      <td>0.250000</td>\n",
       "      <td>3.000000</td>\n",
       "    </tr>\n",
       "    <tr>\n",
       "      <th>75%</th>\n",
       "      <td>1.012195</td>\n",
       "      <td>10.000000</td>\n",
       "      <td>1000.000000</td>\n",
       "      <td>1.180000</td>\n",
       "      <td>0.001000</td>\n",
       "      <td>1.500000e-05</td>\n",
       "      <td>0.070000</td>\n",
       "      <td>0.051000</td>\n",
       "      <td>1.030000</td>\n",
       "      <td>3.000000</td>\n",
       "    </tr>\n",
       "    <tr>\n",
       "      <th>max</th>\n",
       "      <td>6.475590</td>\n",
       "      <td>200.609756</td>\n",
       "      <td>1000.000000</td>\n",
       "      <td>26.900000</td>\n",
       "      <td>0.483000</td>\n",
       "      <td>1.900000e-05</td>\n",
       "      <td>0.070000</td>\n",
       "      <td>0.106400</td>\n",
       "      <td>10.000000</td>\n",
       "      <td>4.000000</td>\n",
       "    </tr>\n",
       "  </tbody>\n",
       "</table>\n",
       "</div>"
      ],
      "text/plain": [
       "               Vsl          Vsg         DenL         DenG         VisL  \\\n",
       "count  3523.000000  3523.000000  3523.000000  3523.000000  3523.000000   \n",
       "mean      0.902791     6.836029   963.239290     3.705230     0.012039   \n",
       "std       1.351430    13.410838   146.653889     6.519686     0.071802   \n",
       "min       0.000241     0.014967    77.041602     0.125000     0.000012   \n",
       "25%       0.033713     0.400000  1000.000000     1.180000     0.001000   \n",
       "50%       0.250000     1.969150  1000.000000     1.180000     0.001000   \n",
       "75%       1.012195    10.000000  1000.000000     1.180000     0.001000   \n",
       "max       6.475590   200.609756  1000.000000    26.900000     0.483000   \n",
       "\n",
       "               VisG           ST           ID          Ang   Flow_label  \n",
       "count  3.523000e+03  3523.000000  3523.000000  3523.000000  3523.000000  \n",
       "mean   1.317070e-05     0.065915     0.046693     0.333272     2.458132  \n",
       "std    4.577323e-06     0.013631     0.025207     4.193035     1.035510  \n",
       "min    5.070000e-07     0.015000     0.008740   -10.000000     0.000000  \n",
       "25%    1.500000e-05     0.070000     0.025000     0.000000     2.000000  \n",
       "50%    1.500000e-05     0.070000     0.051000     0.250000     3.000000  \n",
       "75%    1.500000e-05     0.070000     0.051000     1.030000     3.000000  \n",
       "max    1.900000e-05     0.070000     0.106400    10.000000     4.000000  "
      ]
     },
     "execution_count": 55,
     "metadata": {},
     "output_type": "execute_result"
    }
   ],
   "source": [
    "df.describe()"
   ]
  },
  {
   "cell_type": "code",
   "execution_count": 56,
   "id": "b3516394",
   "metadata": {},
   "outputs": [
    {
     "data": {
      "text/html": [
       "<div>\n",
       "<style scoped>\n",
       "    .dataframe tbody tr th:only-of-type {\n",
       "        vertical-align: middle;\n",
       "    }\n",
       "\n",
       "    .dataframe tbody tr th {\n",
       "        vertical-align: top;\n",
       "    }\n",
       "\n",
       "    .dataframe thead th {\n",
       "        text-align: right;\n",
       "    }\n",
       "</style>\n",
       "<table border=\"1\" class=\"dataframe\">\n",
       "  <thead>\n",
       "    <tr style=\"text-align: right;\">\n",
       "      <th></th>\n",
       "      <th>Author</th>\n",
       "      <th>Vsl</th>\n",
       "      <th>Vsg</th>\n",
       "      <th>DenL</th>\n",
       "      <th>DenG</th>\n",
       "      <th>VisL</th>\n",
       "      <th>VisG</th>\n",
       "      <th>ST</th>\n",
       "      <th>ID</th>\n",
       "      <th>Ang</th>\n",
       "      <th>Flow_label</th>\n",
       "    </tr>\n",
       "  </thead>\n",
       "  <tbody>\n",
       "    <tr>\n",
       "      <th>0</th>\n",
       "      <td>1985_Piu-</td>\n",
       "      <td>0.044817</td>\n",
       "      <td>0.814024</td>\n",
       "      <td>1000.0</td>\n",
       "      <td>1.12</td>\n",
       "      <td>0.001</td>\n",
       "      <td>0.000015</td>\n",
       "      <td>0.07</td>\n",
       "      <td>0.0254</td>\n",
       "      <td>0.0</td>\n",
       "      <td>1</td>\n",
       "    </tr>\n",
       "    <tr>\n",
       "      <th>1</th>\n",
       "      <td>1985_Piu-</td>\n",
       "      <td>0.060976</td>\n",
       "      <td>0.814024</td>\n",
       "      <td>1000.0</td>\n",
       "      <td>1.12</td>\n",
       "      <td>0.001</td>\n",
       "      <td>0.000015</td>\n",
       "      <td>0.07</td>\n",
       "      <td>0.0254</td>\n",
       "      <td>0.0</td>\n",
       "      <td>3</td>\n",
       "    </tr>\n",
       "    <tr>\n",
       "      <th>2</th>\n",
       "      <td>1985_Piu-</td>\n",
       "      <td>0.088110</td>\n",
       "      <td>0.814024</td>\n",
       "      <td>1000.0</td>\n",
       "      <td>1.12</td>\n",
       "      <td>0.001</td>\n",
       "      <td>0.000015</td>\n",
       "      <td>0.07</td>\n",
       "      <td>0.0254</td>\n",
       "      <td>0.0</td>\n",
       "      <td>3</td>\n",
       "    </tr>\n",
       "    <tr>\n",
       "      <th>3</th>\n",
       "      <td>1985_Piu-</td>\n",
       "      <td>0.060976</td>\n",
       "      <td>1.103659</td>\n",
       "      <td>1000.0</td>\n",
       "      <td>1.12</td>\n",
       "      <td>0.001</td>\n",
       "      <td>0.000015</td>\n",
       "      <td>0.07</td>\n",
       "      <td>0.0254</td>\n",
       "      <td>0.0</td>\n",
       "      <td>3</td>\n",
       "    </tr>\n",
       "    <tr>\n",
       "      <th>4</th>\n",
       "      <td>1985_Piu-</td>\n",
       "      <td>0.121951</td>\n",
       "      <td>1.103659</td>\n",
       "      <td>1000.0</td>\n",
       "      <td>1.12</td>\n",
       "      <td>0.001</td>\n",
       "      <td>0.000015</td>\n",
       "      <td>0.07</td>\n",
       "      <td>0.0254</td>\n",
       "      <td>0.0</td>\n",
       "      <td>3</td>\n",
       "    </tr>\n",
       "    <tr>\n",
       "      <th>...</th>\n",
       "      <td>...</td>\n",
       "      <td>...</td>\n",
       "      <td>...</td>\n",
       "      <td>...</td>\n",
       "      <td>...</td>\n",
       "      <td>...</td>\n",
       "      <td>...</td>\n",
       "      <td>...</td>\n",
       "      <td>...</td>\n",
       "      <td>...</td>\n",
       "      <td>...</td>\n",
       "    </tr>\n",
       "    <tr>\n",
       "      <th>3518</th>\n",
       "      <td>1982_Ovad</td>\n",
       "      <td>1.500000</td>\n",
       "      <td>15.000000</td>\n",
       "      <td>1000.0</td>\n",
       "      <td>1.18</td>\n",
       "      <td>0.001</td>\n",
       "      <td>0.000015</td>\n",
       "      <td>0.07</td>\n",
       "      <td>0.0250</td>\n",
       "      <td>-10.0</td>\n",
       "      <td>3</td>\n",
       "    </tr>\n",
       "    <tr>\n",
       "      <th>3519</th>\n",
       "      <td>1982_Ovad</td>\n",
       "      <td>0.600000</td>\n",
       "      <td>25.000000</td>\n",
       "      <td>1000.0</td>\n",
       "      <td>1.18</td>\n",
       "      <td>0.001</td>\n",
       "      <td>0.000015</td>\n",
       "      <td>0.07</td>\n",
       "      <td>0.0250</td>\n",
       "      <td>-10.0</td>\n",
       "      <td>3</td>\n",
       "    </tr>\n",
       "    <tr>\n",
       "      <th>3520</th>\n",
       "      <td>1982_Ovad</td>\n",
       "      <td>1.000000</td>\n",
       "      <td>25.000000</td>\n",
       "      <td>1000.0</td>\n",
       "      <td>1.18</td>\n",
       "      <td>0.001</td>\n",
       "      <td>0.000015</td>\n",
       "      <td>0.07</td>\n",
       "      <td>0.0250</td>\n",
       "      <td>-10.0</td>\n",
       "      <td>3</td>\n",
       "    </tr>\n",
       "    <tr>\n",
       "      <th>3521</th>\n",
       "      <td>1982_Ovad</td>\n",
       "      <td>1.500000</td>\n",
       "      <td>25.000000</td>\n",
       "      <td>1000.0</td>\n",
       "      <td>1.18</td>\n",
       "      <td>0.001</td>\n",
       "      <td>0.000015</td>\n",
       "      <td>0.07</td>\n",
       "      <td>0.0250</td>\n",
       "      <td>-10.0</td>\n",
       "      <td>3</td>\n",
       "    </tr>\n",
       "    <tr>\n",
       "      <th>3522</th>\n",
       "      <td>1982_Ovad</td>\n",
       "      <td>2.500000</td>\n",
       "      <td>0.100000</td>\n",
       "      <td>1000.0</td>\n",
       "      <td>1.18</td>\n",
       "      <td>0.001</td>\n",
       "      <td>0.000015</td>\n",
       "      <td>0.07</td>\n",
       "      <td>0.0250</td>\n",
       "      <td>-10.0</td>\n",
       "      <td>3</td>\n",
       "    </tr>\n",
       "  </tbody>\n",
       "</table>\n",
       "<p>3523 rows × 11 columns</p>\n",
       "</div>"
      ],
      "text/plain": [
       "         Author       Vsl        Vsg    DenL  DenG   VisL      VisG    ST  \\\n",
       "0     1985_Piu-  0.044817   0.814024  1000.0  1.12  0.001  0.000015  0.07   \n",
       "1     1985_Piu-  0.060976   0.814024  1000.0  1.12  0.001  0.000015  0.07   \n",
       "2     1985_Piu-  0.088110   0.814024  1000.0  1.12  0.001  0.000015  0.07   \n",
       "3     1985_Piu-  0.060976   1.103659  1000.0  1.12  0.001  0.000015  0.07   \n",
       "4     1985_Piu-  0.121951   1.103659  1000.0  1.12  0.001  0.000015  0.07   \n",
       "...         ...       ...        ...     ...   ...    ...       ...   ...   \n",
       "3518  1982_Ovad  1.500000  15.000000  1000.0  1.18  0.001  0.000015  0.07   \n",
       "3519  1982_Ovad  0.600000  25.000000  1000.0  1.18  0.001  0.000015  0.07   \n",
       "3520  1982_Ovad  1.000000  25.000000  1000.0  1.18  0.001  0.000015  0.07   \n",
       "3521  1982_Ovad  1.500000  25.000000  1000.0  1.18  0.001  0.000015  0.07   \n",
       "3522  1982_Ovad  2.500000   0.100000  1000.0  1.18  0.001  0.000015  0.07   \n",
       "\n",
       "          ID   Ang  Flow_label  \n",
       "0     0.0254   0.0           1  \n",
       "1     0.0254   0.0           3  \n",
       "2     0.0254   0.0           3  \n",
       "3     0.0254   0.0           3  \n",
       "4     0.0254   0.0           3  \n",
       "...      ...   ...         ...  \n",
       "3518  0.0250 -10.0           3  \n",
       "3519  0.0250 -10.0           3  \n",
       "3520  0.0250 -10.0           3  \n",
       "3521  0.0250 -10.0           3  \n",
       "3522  0.0250 -10.0           3  \n",
       "\n",
       "[3523 rows x 11 columns]"
      ]
     },
     "execution_count": 56,
     "metadata": {},
     "output_type": "execute_result"
    }
   ],
   "source": [
    "df"
   ]
  },
  {
   "cell_type": "markdown",
   "id": "9fed8d64",
   "metadata": {},
   "source": [
    "Recommended Approach for Continuous Features and Categorical Target\n",
    "Given your scenario (continuous features and a categorical target), Mutual Information stands out as a particularly suitable choice. It can handle both types of data without needing to discretize your continuous variables and provides a measure of association that captures non-linear relationships, which are common in complex datasets.\n",
    "\n",
    "In Python, you can use sklearn.feature_selection.mutual_info_classif to compute mutual information between each feature and the target. This approach gives you a quantitative measure of the importance of each feature in predicting the target classes without making strong assumptions about the nature of their relationship."
   ]
  },
  {
   "cell_type": "code",
   "execution_count": 57,
   "id": "af828bc1",
   "metadata": {
    "tags": []
   },
   "outputs": [
    {
     "name": "stdout",
     "output_type": "stream",
     "text": [
      "Correlation between Vsl and Flow Pattern: 0.5659112402624235\n",
      "Correlation between Vsg and Flow Pattern: -0.12885307242413216\n",
      "Correlation between DenL and Flow Pattern: -0.019858160134815034\n",
      "Correlation between DenG and Flow Pattern: 0.1333701306814368\n",
      "Correlation between VisL and Flow Pattern: 0.0026341204959098126\n",
      "Correlation between VisG and Flow Pattern: -0.12990230323786767\n",
      "Correlation between ID and Flow Pattern: 0.1357908180811833\n",
      "Correlation between Ang and Flow Pattern: 0.27219734378163346\n"
     ]
    },
    {
     "data": {
      "image/png": "[encoded data removed]",
      "text/plain": [
       "<Figure size 720x432 with 1 Axes>"
      ]
     },
     "metadata": {
      "needs_background": "light"
     },
     "output_type": "display_data"
    }
   ],
   "source": [
    "# Calculate the correlation between each feature and the Flow pattern\n",
    "# nice to try but this technique is not suitable!!!!\n",
    "correlation_df = pd.DataFrame(columns=['Feature', 'Correlation with FlowPattern'])\n",
    "\n",
    "for feature in df.drop(columns=['Author', 'ST', 'Flow_label']).columns:\n",
    "#for feature in df.drop(columns=['Author', 'Flow_label']).columns:\n",
    "    #correlation    = df[feature].corr(df['Flow_label'])\n",
    "    correlation = df[feature].corr(df['Flow_label'])\n",
    "    print(f\"Correlation between {feature} and Flow Pattern: {correlation}\")\n",
    "    correlation_df = pd.concat([correlation_df, pd.DataFrame({'Feature': [feature], 'Correlation with FlowPattern': [correlation]})], ignore_index=True)\n",
    "\n",
    "# Generate a bar plot to visualize the correlation with the Flow pattern\n",
    "plt.figure(figsize=(10, 6))\n",
    "sns.barplot(x='Correlation with FlowPattern', y='Feature', data=correlation_df, palette='inferno')\n",
    "plt.title('Correlation with FlowPattern Variable')\n",
    "plt.show()"
   ]
  },
  {
   "cell_type": "code",
   "execution_count": 58,
   "id": "08fb00c7",
   "metadata": {},
   "outputs": [
    {
     "data": {
      "image/png": "[encoded data removed]",
      "text/plain": [
       "<Figure size 720x432 with 1 Axes>"
      ]
     },
     "metadata": {
      "needs_background": "light"
     },
     "output_type": "display_data"
    }
   ],
   "source": [
    "from sklearn.feature_selection import mutual_info_classif\n",
    "\n",
    "# Assuming df is your DataFrame and 'Flow_label' is your target variable\n",
    "\n",
    "# Prepare your features and target variable\n",
    "X = df.drop(columns=['Author', 'ST', 'Flow_label'])\n",
    "# consider the effect of ST\n",
    "#X = df.drop(columns=['Author', 'Flow_label'])\n",
    "y = df['Flow_label']\n",
    "\n",
    "# Calculate Mutual Information\n",
    "mi_scores = mutual_info_classif(X, y)\n",
    "\n",
    "# Create a DataFrame for easier plotting\n",
    "mi_df = pd.DataFrame({'Feature': X.columns, 'Mutual Information': mi_scores})\n",
    "\n",
    "# Sort the DataFrame by Mutual Information scores\n",
    "mi_df = mi_df.sort_values(by='Mutual Information', ascending=False)\n",
    "\n",
    "# Plotting\n",
    "plt.figure(figsize=(10, 6))\n",
    "sns.barplot(x='Mutual Information', y='Feature', data=mi_df, palette='inferno')\n",
    "plt.title('Mutual Information with Flow Pattern Variable')\n",
    "plt.show()\n"
   ]
  },
  {
   "cell_type": "code",
   "execution_count": 59,
   "id": "6228d484",
   "metadata": {},
   "outputs": [],
   "source": [
    "random_state = 42"
   ]
  },
  {
   "cell_type": "code",
   "execution_count": 60,
   "id": "67cf08b7",
   "metadata": {},
   "outputs": [
    {
     "name": "stdout",
     "output_type": "stream",
     "text": [
      "Original class distribution: Counter({3: 1848, 1: 648, 2: 522, 4: 356, 0: 149})\n",
      "everything is fine sofar!\n"
     ]
    }
   ],
   "source": [
    "# Split the dataset into train and test sets\n",
    "# Features\n",
    "X = df.drop(columns=['Author','ST', 'Flow_label'], axis=1)   \n",
    "# consider the effect of ST \n",
    "#X = df.drop(columns=['Author', 'Flow_label'], axis=1)   \n",
    "# Target variable\n",
    "y = df['Flow_label']   \n",
    "print(\"Original class distribution:\", Counter(y))                       \n",
    "# Split the data into training and testing sets\n",
    "X_train, X_test, y_train, y_test = train_test_split(X, y, test_size=0.2, random_state=random_state)\n",
    "#train_data = pd.concat([X_train, y_train], axis=1)\n",
    "print('everything is fine sofar!')"
   ]
  },
  {
   "cell_type": "code",
   "execution_count": 61,
   "id": "88033c70",
   "metadata": {},
   "outputs": [
    {
     "name": "stdout",
     "output_type": "stream",
     "text": [
      "\n",
      "Oversampler: RandomOverSampler\n",
      "Resampled class distribution: Counter({3: 1473, 0: 1473, 1: 1473, 2: 1473, 4: 1473})\n",
      "\n",
      "Oversampler: SMOTE\n",
      "Resampled class distribution: Counter({3: 1473, 0: 1473, 1: 1473, 2: 1473, 4: 1473})\n",
      "\n",
      "Oversampler: ADASYN\n",
      "Resampled class distribution: Counter({1: 1502, 2: 1477, 3: 1473, 0: 1463, 4: 1448})\n",
      "\n",
      "Oversampler: BorderlineSMOTE\n",
      "Resampled class distribution: Counter({3: 1473, 0: 1473, 1: 1473, 2: 1473, 4: 1473})\n",
      "\n",
      "Oversampler: SVMSMOTE\n",
      "Resampled class distribution: Counter({3: 1473, 0: 1473, 1: 1473, 2: 1473, 4: 1473})\n"
     ]
    }
   ],
   "source": [
    "# Perform oversampling \n",
    "# List of oversampling techniques\n",
    "oversamplers = {\n",
    "    'RandomOverSampler': RandomOverSampler(sampling_strategy='auto', random_state=random_state),\n",
    "    'SMOTE': SMOTE(sampling_strategy='auto', random_state=random_state),\n",
    "    'ADASYN': ADASYN(sampling_strategy='auto', random_state=random_state),\n",
    "    'BorderlineSMOTE': BorderlineSMOTE(sampling_strategy='auto', random_state=random_state),\n",
    "    'SVMSMOTE': SVMSMOTE(sampling_strategy='auto', random_state=random_state)\n",
    "}\n",
    "# Apply each oversampling technique\n",
    "for name, sampler in oversamplers.items():\n",
    "    X_resampled, y_resampled = sampler.fit_resample(X_train, y_train)\n",
    "    print(f\"\\nOversampler: {name}\")\n",
    "    print(f\"Resampled class distribution:\", Counter(y_resampled))\n",
    "    "
   ]
  },
  {
   "cell_type": "code",
   "execution_count": 62,
   "id": "5ad283a8",
   "metadata": {},
   "outputs": [
    {
     "name": "stdout",
     "output_type": "stream",
     "text": [
      "SVC-Best parameters: {'C': 100, 'gamma': 0.1, 'kernel': 'rbf', 'max_iter': 1000}\n",
      "SVC-Best score: 0.8750721187155941\n",
      "Decision Tree - Best parameters: {'criterion': 'entropy', 'max_depth': None, 'min_samples_leaf': 1, 'min_samples_split': 2}\n",
      "Decision Tree - Best score: 0.9268861091165614\n",
      "Random Forest - Best parameters: {'max_depth': 20, 'max_features': 'sqrt', 'min_samples_leaf': 1, 'min_samples_split': 2, 'n_estimators': 200}\n",
      "Random Forest - Best score: 0.947473010594208\n",
      "Logistic Regression - Best parameters: {'C': 100, 'max_iter': 100, 'solver': 'liblinear'}\n",
      "Logistic Regression - Best score: 0.7022662282856531\n",
      "XGBoost - Best parameters: {'colsample_bytree': 0.9, 'learning_rate': 0.1, 'max_depth': 7, 'min_child_weight': 1, 'n_estimators': 200, 'subsample': 0.8}\n",
      "XGBoost - Best score: 0.949955909955532\n"
     ]
    }
   ],
   "source": [
    "# Hyperparameter tuning with GridSearchCV of SVC model\n",
    "\n",
    "# Define the parameter grid, including kernel and max_iter\n",
    "param_grid = {\n",
    "    'C': [0.1, 1, 10, 100],\n",
    "    'gamma': ['scale', 'auto', 0.001, 0.01, 0.1, 1, 10],\n",
    "    'kernel': ['linear', 'rbf'],  # Add different kernels you want to test\n",
    "    'max_iter': [1000, 5000, 20000]  # Add different max_iter values\n",
    "}\n",
    "\n",
    "# Initialize SVC (no need to define kernel and max_iter here as they're in param_grid)\n",
    "svc_classifier = SVC()\n",
    "\n",
    "# Initialize GridSearchCV\n",
    "grid_search_svc = GridSearchCV(svc_classifier, param_grid, cv=5, n_jobs=-1)\n",
    "\n",
    "# Fit the model on the training data\n",
    "grid_search_svc.fit(X_train, y_train)\n",
    "\n",
    "# Get the best parameters\n",
    "best_params_svc = grid_search_svc.best_params_\n",
    "# Get the best score\n",
    "best_score_svc = grid_search_svc.best_score_\n",
    "#print\n",
    "print(f\"SVC-Best parameters: {best_params_svc}\")\n",
    "print(f\"SVC-Best score: {best_score_svc}\")\n",
    "\n",
    "# Hyperparameter tuning with GridSearchCV of Decision Tree   \n",
    "\n",
    "# Define the parameter grid for Decision Tree\n",
    "param_grid_dt = {\n",
    "    'criterion': ['gini', 'entropy'],\n",
    "    'max_depth': [None, 10, 20, 30, 40, 50],\n",
    "    'min_samples_split': [2, 5, 10],\n",
    "    'min_samples_leaf': [1, 2, 4]\n",
    "}\n",
    "\n",
    "# Initialize Decision Tree Classifier\n",
    "dt_classifier = DecisionTreeClassifier(random_state=random_state)\n",
    "\n",
    "# Initialize GridSearchCV\n",
    "grid_search_dt = GridSearchCV(dt_classifier, param_grid_dt, cv=5, n_jobs=-1)\n",
    "\n",
    "# Fit the model on the training data\n",
    "grid_search_dt.fit(X_train, y_train)\n",
    "\n",
    "# Get the best parameters and best score\n",
    "best_params_dt = grid_search_dt.best_params_\n",
    "best_score_dt = grid_search_dt.best_score_\n",
    "\n",
    "print(f\"Decision Tree - Best parameters: {best_params_dt}\")\n",
    "print(f\"Decision Tree - Best score: {best_score_dt}\")\n",
    "\n",
    "# Hyperparameter tuning with GridSearchCV of Random Forest\n",
    "# Define the parameter grid for Random Forest\n",
    "param_grid_rf = {\n",
    "    'n_estimators': [10, 50, 100, 200],\n",
    "    'max_features': ['sqrt', 'log2', None],  # Remove 'auto'\n",
    "    'max_depth': [None, 10, 20, 30, 40, 50],\n",
    "    'min_samples_split': [2, 5, 10],\n",
    "    'min_samples_leaf': [1, 2, 4]\n",
    "}\n",
    "\n",
    "# Initialize Random Forest Classifier\n",
    "rf_classifier = RandomForestClassifier()\n",
    "\n",
    "# Initialize GridSearchCV\n",
    "grid_search_rf = GridSearchCV(rf_classifier, param_grid_rf, cv=5, n_jobs=-1, error_score='raise')\n",
    "\n",
    "# Fit the model on the training data\n",
    "grid_search_rf.fit(X_train, y_train)\n",
    "\n",
    "# Get the best parameters and best score\n",
    "best_params_rf = grid_search_rf.best_params_\n",
    "best_score_rf = grid_search_rf.best_score_\n",
    "\n",
    "print(f\"Random Forest - Best parameters: {best_params_rf}\")\n",
    "print(f\"Random Forest - Best score: {best_score_rf}\")\n",
    "\n",
    "# Hyperparameter tuning with GridSearchCV of Logistic Regression\n",
    "# Define the parameter grid for Logistic Regression\n",
    "param_grid_lr = {\n",
    "    'C': [0.1, 1, 10, 100],\n",
    "    'solver': [ 'lbfgs', 'liblinear', 'saga'],\n",
    "    'max_iter': [100, 200, 300]\n",
    "}\n",
    "\n",
    "# Initialize Logistic Regression\n",
    "lr_classifier = LogisticRegression(random_state=random_state)\n",
    "\n",
    "# Initialize GridSearchCV with cross-validation\n",
    "grid_search_lr = GridSearchCV(lr_classifier, param_grid_lr, cv=5, n_jobs=-1)\n",
    "\n",
    "# Fit the model on the training data\n",
    "grid_search_lr.fit(X_train, y_train)\n",
    "\n",
    "# Get the best parameters and best score\n",
    "best_params_lr = grid_search_lr.best_params_\n",
    "best_score_lr = grid_search_lr.best_score_\n",
    "\n",
    "print(f\"Logistic Regression - Best parameters: {best_params_lr}\")\n",
    "print(f\"Logistic Regression - Best score: {best_score_lr}\") \n",
    "\n",
    "# Hyperparameter tuning with GridSearchCV of XGBoost\n",
    "# Define the parameter grid for XGBoost\n",
    "param_grid_xgb = {\n",
    "    'learning_rate': [0.01, 0.1, 0.2],\n",
    "    'n_estimators': [50, 100, 200],\n",
    "    'max_depth': [3, 5, 7],\n",
    "    'min_child_weight': [1, 3, 5],\n",
    "    'subsample': [0.8, 0.9, 1.0],\n",
    "    'colsample_bytree': [0.8, 0.9, 1.0]\n",
    "}\n",
    "\n",
    "# Initialize XGBoost Classifier\n",
    "xgb_classifier = XGBClassifier(random_state=random_state)\n",
    "\n",
    "# Initialize GridSearchCV with cross-validation\n",
    "grid_search_xgb = GridSearchCV(xgb_classifier, param_grid_xgb, cv=5, n_jobs=-1)\n",
    "\n",
    "# Fit the model on the training data\n",
    "grid_search_xgb.fit(X_train, y_train)\n",
    "\n",
    "# Get the best parameters and best score\n",
    "best_params_xgb = grid_search_xgb.best_params_\n",
    "best_score_xgb = grid_search_xgb.best_score_\n",
    "\n",
    "print(f\"XGBoost - Best parameters: {best_params_xgb}\")\n",
    "print(f\"XGBoost - Best score: {best_score_xgb}\")"
   ]
  },
  {
   "cell_type": "code",
   "execution_count": 63,
   "id": "ef95bd0d",
   "metadata": {},
   "outputs": [],
   "source": [
    "# Set to True for best parameters, False for standard configuration\n",
    "use_best_params = True\n",
    "\n",
    "if(not use_best_params):\n",
    "    # Initialize  classifiers with standard parameters\n",
    "    classifiers = {\n",
    "        'XGBClassifier': XGBClassifier(),\n",
    "        'Decision Tree': DecisionTreeClassifier(),\n",
    "        'Random Forest': RandomForestClassifier(),\n",
    "        'Logistic Regression': LogisticRegression(max_iter=20000),\n",
    "        'Support Vector Machine': SVC(kernel='linear', C=0.1, gamma='scale', max_iter=20000)\n",
    "    }\n",
    "else:\n",
    "    # Initialize different classifiers with best parameters\n",
    "    classifiers = {\n",
    "        'XGBClassifier': XGBClassifier(**best_params_xgb),\n",
    "        'Decision Tree': DecisionTreeClassifier(**best_params_dt),\n",
    "        'Random Forest': RandomForestClassifier(**best_params_rf),\n",
    "        'Logistic Regression': LogisticRegression(**best_params_lr),\n",
    "        'Support Vector Machine': SVC(**best_params_svc)\n",
    "    }"
   ]
  },
  {
   "cell_type": "code",
   "execution_count": 64,
   "id": "2f16b98a",
   "metadata": {},
   "outputs": [
    {
     "name": "stdout",
     "output_type": "stream",
     "text": [
      "\n",
      "Oversampler: RandomOverSampler\n",
      "Resampled class distribution: Counter({3: 1473, 0: 1473, 1: 1473, 2: 1473, 4: 1473})\n",
      "\n",
      "Oversampler: SMOTE\n",
      "Resampled class distribution: Counter({3: 1473, 0: 1473, 1: 1473, 2: 1473, 4: 1473})\n",
      "\n",
      "Oversampler: ADASYN\n",
      "Resampled class distribution: Counter({1: 1502, 2: 1477, 3: 1473, 0: 1463, 4: 1448})\n",
      "\n",
      "Oversampler: BorderlineSMOTE\n",
      "Resampled class distribution: Counter({3: 1473, 0: 1473, 1: 1473, 2: 1473, 4: 1473})\n",
      "\n",
      "Oversampler: SVMSMOTE\n",
      "Resampled class distribution: Counter({3: 1473, 0: 1473, 1: 1473, 2: 1473, 4: 1473})\n"
     ]
    }
   ],
   "source": [
    "# Imbalanced data --> use different techniques \n",
    "# Using different classifiers\n",
    "# Generate y_pred for each classifier\n",
    "y_preds = {}\n",
    "# Initialize a list to store the results of accuracy\n",
    "results = []\n",
    "models_accuracies=[]\n",
    "model_oversampler_accuracy=[]\n",
    "# Train and evaluate each classifier\n",
    "k = -1 \n",
    "for name, clf in classifiers.items():\n",
    "    k = k + 1\n",
    "    # test each technique\n",
    "    best_accuracy = 0.\n",
    "    for name_oversampler, sampler in oversamplers.items():\n",
    "        X_resampled, y_resampled = sampler.fit_resample(X_train, y_train)\n",
    "        if (k < 1):  # print resamling only once\n",
    "            print(f\"\\nOversampler: {name_oversampler}\")\n",
    "            print(f\"Resampled class distribution:\", Counter(y_resampled))\n",
    "        # Train the classifier\n",
    "        clf.fit(X_resampled, y_resampled)\n",
    "    \n",
    "        # Make predictions on the test set\n",
    "        y_pred = clf.predict(X_test)\n",
    "\n",
    "        # Evaluate the model\n",
    "        accuracy      = accuracy_score(y_test, y_pred) * 100  # Multiply by 100 for percentage\n",
    "        results.append([name, name_oversampler, f\"{accuracy:.2f}%\"])\n",
    "        # Update best oversampler if necessary\n",
    "        if accuracy > best_accuracy:\n",
    "            best_oversampler = name_oversampler\n",
    "            best_accuracy = accuracy\n",
    "            y_pred_best   = y_pred\n",
    "            \n",
    "    y_preds[name] = y_pred  \n",
    "    models_accuracies.append([name, best_accuracy])\n",
    "    model_oversampler_accuracy.append([name,best_oversampler, best_accuracy]) \n",
    "        \n",
    "    \n"
   ]
  },
  {
   "cell_type": "code",
   "execution_count": 65,
   "id": "0f716c9c",
   "metadata": {},
   "outputs": [
    {
     "name": "stdout",
     "output_type": "stream",
     "text": [
      "+------------------------+-------------------------+----------+\n",
      "|         Model          |  Oversampling technique | Accuracy |\n",
      "+------------------------+-------------------------+----------+\n",
      "|     XGBClassifier      |    RandomOverSampler    |  94.47%  |\n",
      "|     XGBClassifier      |          SMOTE          |  95.46%  |\n",
      "|     XGBClassifier      |         ADASYN          |  94.89%  |\n",
      "|     XGBClassifier      |     BorderlineSMOTE     |  94.89%  |\n",
      "|     XGBClassifier      |        SVMSMOTE         |  94.47%  |\n",
      "|     Decision Tree      |    RandomOverSampler    |  92.06%  |\n",
      "|     Decision Tree      |          SMOTE          |  94.18%  |\n",
      "|     Decision Tree      |         ADASYN          |  94.04%  |\n",
      "|     Decision Tree      |     BorderlineSMOTE     |  92.77%  |\n",
      "|     Decision Tree      |        SVMSMOTE         |  94.47%  |\n",
      "|     Random Forest      |    RandomOverSampler    |  94.47%  |\n",
      "|     Random Forest      |          SMOTE          |  94.18%  |\n",
      "|     Random Forest      |         ADASYN          |  94.04%  |\n",
      "|     Random Forest      |     BorderlineSMOTE     |  94.47%  |\n",
      "|     Random Forest      |        SVMSMOTE         |  94.47%  |\n",
      "|  Logistic Regression   |    RandomOverSampler    |  64.54%  |\n",
      "|  Logistic Regression   |          SMOTE          |  64.82%  |\n",
      "|  Logistic Regression   |         ADASYN          |  62.13%  |\n",
      "|  Logistic Regression   |     BorderlineSMOTE     |  60.00%  |\n",
      "|  Logistic Regression   |        SVMSMOTE         |  60.99%  |\n",
      "| Support Vector Machine |    RandomOverSampler    |  85.39%  |\n",
      "| Support Vector Machine |          SMOTE          |  87.09%  |\n",
      "| Support Vector Machine |         ADASYN          |  86.10%  |\n",
      "| Support Vector Machine |     BorderlineSMOTE     |  85.96%  |\n",
      "| Support Vector Machine |        SVMSMOTE         |  86.95%  |\n",
      "+------------------------+-------------------------+----------+\n"
     ]
    }
   ],
   "source": [
    "# Print results as a table\n",
    "print(tabulate(results, headers=[\"Model\", \" Oversampling technique\", \"Accuracy\"], tablefmt=\"pretty\"))"
   ]
  },
  {
   "cell_type": "code",
   "execution_count": 66,
   "id": "114be692",
   "metadata": {},
   "outputs": [
    {
     "name": "stdout",
     "output_type": "stream",
     "text": [
      "+------------------------+-------------------+----------+\n",
      "|         Model          |    Oversampler    | Accuracy |\n",
      "+------------------------+-------------------+----------+\n",
      "|     XGBClassifier      |       SMOTE       |  95.46%  |\n",
      "|     XGBClassifier      |      ADASYN       |  94.89%  |\n",
      "|     XGBClassifier      |  BorderlineSMOTE  |  94.89%  |\n",
      "|     XGBClassifier      | RandomOverSampler |  94.47%  |\n",
      "|     XGBClassifier      |     SVMSMOTE      |  94.47%  |\n",
      "|     Decision Tree      |     SVMSMOTE      |  94.47%  |\n",
      "|     Random Forest      | RandomOverSampler |  94.47%  |\n",
      "|     Random Forest      |  BorderlineSMOTE  |  94.47%  |\n",
      "|     Random Forest      |     SVMSMOTE      |  94.47%  |\n",
      "|     Decision Tree      |       SMOTE       |  94.18%  |\n",
      "|     Random Forest      |       SMOTE       |  94.18%  |\n",
      "|     Decision Tree      |      ADASYN       |  94.04%  |\n",
      "|     Random Forest      |      ADASYN       |  94.04%  |\n",
      "|     Decision Tree      |  BorderlineSMOTE  |  92.77%  |\n",
      "|     Decision Tree      | RandomOverSampler |  92.06%  |\n",
      "| Support Vector Machine |       SMOTE       |  87.09%  |\n",
      "| Support Vector Machine |     SVMSMOTE      |  86.95%  |\n",
      "| Support Vector Machine |      ADASYN       |  86.10%  |\n",
      "| Support Vector Machine |  BorderlineSMOTE  |  85.96%  |\n",
      "| Support Vector Machine | RandomOverSampler |  85.39%  |\n",
      "|  Logistic Regression   |       SMOTE       |  64.82%  |\n",
      "|  Logistic Regression   | RandomOverSampler |  64.54%  |\n",
      "|  Logistic Regression   |      ADASYN       |  62.13%  |\n",
      "|  Logistic Regression   |     SVMSMOTE      |  60.99%  |\n",
      "|  Logistic Regression   |  BorderlineSMOTE  |  60.00%  |\n",
      "+------------------------+-------------------+----------+\n"
     ]
    }
   ],
   "source": [
    "\n",
    "# Sort the results by accuracy in descending order\n",
    "sorted_results = sorted(results, key=lambda x: x[2], reverse=True)\n",
    "# Generate a table\n",
    "table = tabulate(sorted_results, headers=['Model', 'Oversampler', 'Accuracy'], tablefmt='pretty')\n",
    "print(table)"
   ]
  },
  {
   "cell_type": "code",
   "execution_count": 67,
   "id": "5e686fa6",
   "metadata": {},
   "outputs": [],
   "source": [
    "# Define original labels and desired labels\n",
    "original_labels = ['0', '1', '2', '3', '4']\n",
    "desired_labels = ['SS', 'SW', 'A', 'I', 'DB']\n",
    "#desired_labels = ['Smooth-Stratified', 'Wavy-Stratified', 'Annular', 'Slug', 'Bubbly']\n",
    "# Create a dictionary to map original labels to desired labels\n",
    "label_mapping = {original_labels[i]: desired_labels[i] for i in range(len(original_labels))}\n",
    "\n"
   ]
  },
  {
   "cell_type": "code",
   "execution_count": 68,
   "id": "0dcfeb9e",
   "metadata": {},
   "outputs": [
    {
     "name": "stdout",
     "output_type": "stream",
     "text": [
      "['XGBClassifier', 'SMOTE', 95.46099290780143]\n"
     ]
    },
    {
     "data": {
      "image/png": "[encoded data removed]",
      "text/plain": [
       "<Figure size 432x288 with 2 Axes>"
      ]
     },
     "metadata": {
      "needs_background": "light"
     },
     "output_type": "display_data"
    },
    {
     "name": "stdout",
     "output_type": "stream",
     "text": [
      "['Decision Tree', 'SVMSMOTE', 94.46808510638299]\n"
     ]
    },
    {
     "data": {
      "image/png": "[encoded data removed]",
      "text/plain": [
       "<Figure size 432x288 with 2 Axes>"
      ]
     },
     "metadata": {
      "needs_background": "light"
     },
     "output_type": "display_data"
    },
    {
     "name": "stdout",
     "output_type": "stream",
     "text": [
      "['Random Forest', 'RandomOverSampler', 94.46808510638299]\n"
     ]
    },
    {
     "data": {
      "image/png": "[encoded data removed]",
      "text/plain": [
       "<Figure size 432x288 with 2 Axes>"
      ]
     },
     "metadata": {
      "needs_background": "light"
     },
     "output_type": "display_data"
    },
    {
     "name": "stdout",
     "output_type": "stream",
     "text": [
      "['Logistic Regression', 'SMOTE', 64.822695035461]\n"
     ]
    },
    {
     "data": {
      "image/png": "[encoded data removed]",
      "text/plain": [
       "<Figure size 432x288 with 2 Axes>"
      ]
     },
     "metadata": {
      "needs_background": "light"
     },
     "output_type": "display_data"
    },
    {
     "name": "stdout",
     "output_type": "stream",
     "text": [
      "['Support Vector Machine', 'SMOTE', 87.09219858156028]\n"
     ]
    },
    {
     "data": {
      "image/png": "[encoded data removed]",
      "text/plain": [
       "<Figure size 432x288 with 2 Axes>"
      ]
     },
     "metadata": {
      "needs_background": "light"
     },
     "output_type": "display_data"
    }
   ],
   "source": [
    "\n",
    "# Initialize a dictionary to store confusion matrices\n",
    "confusion_matrices = {}\n",
    "\n",
    "for name, y_pred in y_preds.items():\n",
    "    cm = confusion_matrix(y_test, y_pred)\n",
    "    confusion_matrices[name] = cm\n",
    "\n",
    "# Find the maximum value among all confusion matrices\n",
    "max_value = max(np.max(cm) for cm in confusion_matrices.values())\n",
    "# Plot the confusion matrices\n",
    "k = -1 \n",
    "for name, cm in confusion_matrices.items():\n",
    "    k = k + 1 \n",
    "    plt.figure(figsize=(6, 4))\n",
    "    sns.heatmap(cm, annot=True, fmt='d', cmap='inferno', xticklabels=desired_labels, yticklabels=desired_labels, vmin=0, vmax=max_value) # Reverse yticklabels\n",
    "    print(model_oversampler_accuracy[k])\n",
    "    \n",
    "    # Get the corresponding value from the second list\n",
    "    oversampler = model_oversampler_accuracy[k][1]\n",
    "    \n",
    "    plt.title(f'Confusion Matrix - {name} - {oversampler}')\n",
    "    plt.xlabel('Predicted')\n",
    "    plt.ylabel('Actual')\n",
    "    plt.show()\n",
    "    # Create the confusion matrix using scikit-learn\n",
    "    cm = confusion_matrix(y_test, y_pred)\n",
    "    # Calculate row sums (total predictions for each class)\n",
    "    row_sums = np.sum(cm, axis=1)\n",
    "    # Calculate percentages\n",
    "    percentages = cm / row_sums[:, np.newaxis] * 100  # Ensure division is element-wise\n",
    "    #sns.heatmap(cm, annot=True, fmt='d', cmap='YlGnBu', xticklabels=desired_labels, yticklabels=desired_labels) # Reverse yticklabels\n",
    "\n",
    "   "
   ]
  },
  {
   "cell_type": "code",
   "execution_count": 69,
   "id": "2bdca6da",
   "metadata": {
    "tags": []
   },
   "outputs": [
    {
     "name": "stdout",
     "output_type": "stream",
     "text": [
      "Classification Report - XGBClassifier:\n"
     ]
    },
    {
     "data": {
      "text/html": [
       "<div style='max-height: 300px; overflow-y: auto;'></div>"
      ],
      "text/plain": [
       "<IPython.core.display.HTML object>"
      ]
     },
     "metadata": {},
     "output_type": "display_data"
    },
    {
     "name": "stdout",
     "output_type": "stream",
     "text": [
      "              precision    recall  f1-score   support\n",
      "\n",
      "          SS       0.94      0.97      0.95        30\n",
      "          SW       0.95      0.88      0.91       120\n",
      "           A       0.86      0.90      0.88       107\n",
      "           I       0.96      0.98      0.97       375\n",
      "          DB       0.97      0.95      0.96        73\n",
      "\n",
      "    accuracy                           0.94       705\n",
      "   macro avg       0.94      0.93      0.93       705\n",
      "weighted avg       0.95      0.94      0.94       705\n",
      "\n",
      "Cohen's Kappa: 0.9148\n",
      "--------------------------------\n",
      "Classification Report - Decision Tree:\n"
     ]
    },
    {
     "data": {
      "text/html": [
       "<div style='max-height: 300px; overflow-y: auto;'></div>"
      ],
      "text/plain": [
       "<IPython.core.display.HTML object>"
      ]
     },
     "metadata": {},
     "output_type": "display_data"
    },
    {
     "name": "stdout",
     "output_type": "stream",
     "text": [
      "              precision    recall  f1-score   support\n",
      "\n",
      "          SS       0.94      0.97      0.95        30\n",
      "          SW       0.95      0.88      0.92       120\n",
      "           A       0.87      0.91      0.89       107\n",
      "           I       0.96      0.98      0.97       375\n",
      "          DB       1.00      0.93      0.96        73\n",
      "\n",
      "    accuracy                           0.94       705\n",
      "   macro avg       0.94      0.93      0.94       705\n",
      "weighted avg       0.95      0.94      0.94       705\n",
      "\n",
      "Cohen's Kappa: 0.9147\n",
      "--------------------------------\n",
      "Classification Report - Random Forest:\n"
     ]
    },
    {
     "data": {
      "text/html": [
       "<div style='max-height: 300px; overflow-y: auto;'></div>"
      ],
      "text/plain": [
       "<IPython.core.display.HTML object>"
      ]
     },
     "metadata": {},
     "output_type": "display_data"
    },
    {
     "name": "stdout",
     "output_type": "stream",
     "text": [
      "              precision    recall  f1-score   support\n",
      "\n",
      "          SS       0.94      0.97      0.95        30\n",
      "          SW       0.93      0.90      0.92       120\n",
      "           A       0.88      0.91      0.89       107\n",
      "           I       0.97      0.97      0.97       375\n",
      "          DB       0.96      0.93      0.94        73\n",
      "\n",
      "    accuracy                           0.94       705\n",
      "   macro avg       0.93      0.94      0.93       705\n",
      "weighted avg       0.94      0.94      0.94       705\n",
      "\n",
      "Cohen's Kappa: 0.9151\n",
      "--------------------------------\n",
      "Classification Report - Logistic Regression:\n"
     ]
    },
    {
     "data": {
      "text/html": [
       "<div style='max-height: 300px; overflow-y: auto;'></div>"
      ],
      "text/plain": [
       "<IPython.core.display.HTML object>"
      ]
     },
     "metadata": {},
     "output_type": "display_data"
    },
    {
     "name": "stdout",
     "output_type": "stream",
     "text": [
      "              precision    recall  f1-score   support\n",
      "\n",
      "          SS       0.20      0.93      0.33        30\n",
      "          SW       0.62      0.52      0.56       120\n",
      "           A       0.53      0.82      0.64       107\n",
      "           I       0.91      0.48      0.63       375\n",
      "          DB       0.71      0.99      0.83        73\n",
      "\n",
      "    accuracy                           0.61       705\n",
      "   macro avg       0.59      0.75      0.60       705\n",
      "weighted avg       0.75      0.61      0.63       705\n",
      "\n",
      "Cohen's Kappa: 0.4921\n",
      "--------------------------------\n",
      "Classification Report - Support Vector Machine:\n"
     ]
    },
    {
     "data": {
      "text/html": [
       "<div style='max-height: 300px; overflow-y: auto;'></div>"
      ],
      "text/plain": [
       "<IPython.core.display.HTML object>"
      ]
     },
     "metadata": {},
     "output_type": "display_data"
    },
    {
     "name": "stdout",
     "output_type": "stream",
     "text": [
      "              precision    recall  f1-score   support\n",
      "\n",
      "          SS       0.63      0.97      0.76        30\n",
      "          SW       0.80      0.82      0.81       120\n",
      "           A       0.77      0.80      0.79       107\n",
      "           I       0.94      0.88      0.91       375\n",
      "          DB       0.94      0.93      0.94        73\n",
      "\n",
      "    accuracy                           0.87       705\n",
      "   macro avg       0.82      0.88      0.84       705\n",
      "weighted avg       0.88      0.87      0.87       705\n",
      "\n",
      "Cohen's Kappa: 0.8046\n",
      "--------------------------------\n"
     ]
    }
   ],
   "source": [
    "# Initialize a dictionary to store classification reports\n",
    "classification_reports = {}\n",
    "\n",
    "for name, y_pred in y_preds.items():\n",
    "    report = classification_report(y_test, y_pred, target_names=desired_labels, zero_division=1, output_dict=True)\n",
    "    report = classification_report(y_test, y_pred, zero_division=1)\n",
    "    classification_reports[name] = report\n",
    "    print(f\"Classification Report - {name}:\")\n",
    "    # Display long output with scrolling\n",
    "    display(HTML(\"<div style='max-height: 300px; overflow-y: auto;'>\"  + \"</div>\"))\n",
    "    print(classification_report(y_test, y_preds[name], target_names=desired_labels,zero_division=1))\n",
    "    # Calculate Cohen's Kappa\n",
    "    kappa = cohen_kappa_score(y_test, y_pred)\n",
    "    print(f\"Cohen's Kappa: {kappa:.4f}\")\n",
    "    print(f\"--------------------------------\")\n"
   ]
  },
  {
   "cell_type": "code",
   "execution_count": 70,
   "id": "5b14c6f1",
   "metadata": {},
   "outputs": [
    {
     "name": "stdout",
     "output_type": "stream",
     "text": [
      "Model: XGBClassifier, Accuracy: 95.46099290780143%\n",
      "Model: Decision Tree, Accuracy: 94.46808510638299%\n",
      "Model: Random Forest, Accuracy: 94.46808510638299%\n",
      "Model: Logistic Regression, Accuracy: 64.822695035461%\n",
      "Model: Support Vector Machine, Accuracy: 87.09219858156028%\n",
      "{'XGBClassifier': XGBClassifier(base_score=None, booster=None, callbacks=None,\n",
      "              colsample_bylevel=None, colsample_bynode=None,\n",
      "              colsample_bytree=0.9, device=None, early_stopping_rounds=None,\n",
      "              enable_categorical=False, eval_metric=None, feature_types=None,\n",
      "              gamma=None, grow_policy=None, importance_type=None,\n",
      "              interaction_constraints=None, learning_rate=0.1, max_bin=None,\n",
      "              max_cat_threshold=None, max_cat_to_onehot=None,\n",
      "              max_delta_step=None, max_depth=7, max_leaves=None,\n",
      "              min_child_weight=1, missing=nan, monotone_constraints=None,\n",
      "              multi_strategy=None, n_estimators=200, n_jobs=None,\n",
      "              num_parallel_tree=None, objective='multi:softprob', ...), 'Decision Tree': DecisionTreeClassifier(criterion='entropy'), 'Random Forest': RandomForestClassifier(max_depth=20, n_estimators=200), 'Logistic Regression': LogisticRegression(C=100, solver='liblinear'), 'Support Vector Machine': SVC(C=100, gamma=0.1, max_iter=1000)}\n"
     ]
    }
   ],
   "source": [
    "#list of models and their corresponding accuracies: models_accuracies\n",
    "# Filter models with accuracy > 80%\n",
    "selected_models = [model_info for model_info in models_accuracies if model_info[1] > 60]\n",
    "\n",
    "# Print the selected models\n",
    "for model_info in selected_models:\n",
    "    print(f\"Model: {model_info[0]}, Accuracy: {model_info[1]}%\")\n",
    "\n",
    "# Initialize a dictionary to store models with accuracy > 90%\n",
    "high_accuracy_models = {}\n",
    "\n",
    "\n",
    "# Iterate through the models\n",
    "for model_name, model in classifiers.items():\n",
    "    for model_info in selected_models:\n",
    "        if (model_info[0] == model_name):\n",
    "            high_accuracy_models[model_name] = model\n",
    "\n",
    "\n",
    "print(high_accuracy_models)"
   ]
  },
  {
   "cell_type": "code",
   "execution_count": 71,
   "id": "bdd15c1d",
   "metadata": {},
   "outputs": [
    {
     "name": "stdout",
     "output_type": "stream",
     "text": [
      "Accuracy for XGBClassifier: 98.72 %\n",
      "Accuracy for Decision Tree: 98.86 %\n",
      "Accuracy for Random Forest: 98.86 %\n",
      "Accuracy for Logistic Regression: 63.72 %\n",
      "Accuracy for Support Vector Machine: 90.07 %\n"
     ]
    }
   ],
   "source": [
    "# the selected models are already trained these models\n",
    "# Load the new data set\n",
    "validation_data = pd.read_csv('validation_data.csv')  \n",
    "# Features\n",
    "X_valid = df.drop(columns=['Author', 'ST', 'Flow_label'], axis=1)    \n",
    "# consider the effect of ST (surface tension)   \n",
    "#X_valid = df.drop(columns=['Author', 'Flow_label'], axis=1)   \n",
    "# Target variable\n",
    "y_valid = df['Flow_label'] \n",
    "\n",
    "# Initialize a dictionary to store predictions\n",
    "predictions_dict = {}\n",
    "\n",
    "# Loop through the selected models\n",
    "for clf_name, clf in high_accuracy_models.items():\n",
    "    # Make predictions\n",
    "    prediction = clf.predict(X_valid)\n",
    "    # Store predictions in the dictionary\n",
    "    predictions_dict[clf_name] = prediction\n",
    "\n",
    "#  predictions stored in predictions_dict\n",
    "for clf_name, prediction in predictions_dict.items():\n",
    "    accuracy = accuracy_score(y_valid, prediction)\n",
    "    print(f\"Accuracy for {clf_name}: {accuracy * 100 :.2f} %\")"
   ]
  },
  {
   "cell_type": "code",
   "execution_count": 74,
   "id": "90828650",
   "metadata": {},
   "outputs": [],
   "source": [
    "# Print y_valid and y_pred side by side\n",
    "#for true, pred in zip(y_valid, predictions_dict[clf_name]):\n",
    "    #print(f\"Actual: {true}, Predicted: {pred}\")"
   ]
  },
  {
   "cell_type": "code",
   "execution_count": 75,
   "id": "f07e56e3",
   "metadata": {},
   "outputs": [
    {
     "name": "stdout",
     "output_type": "stream",
     "text": [
      "XGBClassifier(base_score=None, booster=None, callbacks=None,\n",
      "              colsample_bylevel=None, colsample_bynode=None,\n",
      "              colsample_bytree=None, device=None, early_stopping_rounds=None,\n",
      "              enable_categorical=False, eval_metric=None, feature_types=None,\n",
      "              gamma=None, grow_policy=None, importance_type=None,\n",
      "              interaction_constraints=None, learning_rate=None, max_bin=None,\n",
      "              max_cat_threshold=None, max_cat_to_onehot=None,\n",
      "              max_delta_step=None, max_depth=None, max_leaves=None,\n",
      "              min_child_weight=None, missing=nan, monotone_constraints=None,\n",
      "              multi_strategy=None, n_estimators=None, n_jobs=None,\n",
      "              num_parallel_tree=None, random_state=None, ...)\n",
      "DecisionTreeClassifier()\n",
      "RandomForestClassifier()\n"
     ]
    }
   ],
   "source": [
    "# Save the trained model to a file\n",
    "classifiers = {\n",
    "    'XGBClassifier': XGBClassifier(),\n",
    "    'Decision Tree': DecisionTreeClassifier(),\n",
    "    'Random Forest': RandomForestClassifier()\n",
    "}\n",
    "for name, model in classifiers.items():\n",
    "    print(model)\n",
    "    joblib.dump(model, name)"
   ]
  },
  {
   "cell_type": "code",
   "execution_count": 76,
   "id": "0679fe5e",
   "metadata": {},
   "outputs": [
    {
     "name": "stdout",
     "output_type": "stream",
     "text": [
      "Model XGBClassifier-oversampled saved to c:\\Users\\Administrator\\Desktop\\mini_project\\test\\XGBClassifier-oversampled.joblib\n",
      "Model Decision Tree-oversampled saved to c:\\Users\\Administrator\\Desktop\\mini_project\\test\\Decision Tree-oversampled.joblib\n",
      "Model Random Forest-oversampled saved to c:\\Users\\Administrator\\Desktop\\mini_project\\test\\Random Forest-oversampled.joblib\n"
     ]
    }
   ],
   "source": [
    "# Save the trained model to a file\n",
    "classifiers = {\n",
    "    'XGBClassifier-oversampled': XGBClassifier(),\n",
    "    'Decision Tree-oversampled': DecisionTreeClassifier(),\n",
    "    'Random Forest-oversampled': RandomForestClassifier()\n",
    "}\n",
    "for name, model in classifiers.items():\n",
    "    model.fit(X_resampled, y_resampled)\n",
    "# Define the path to the test directory relative to the notebooks directory\n",
    "test_dir = os.path.join(os.path.dirname(os.getcwd()), 'test')\n",
    "\n",
    "# Ensure the test directory exists\n",
    "os.makedirs(test_dir, exist_ok=True)\n",
    "\n",
    "# Save the models in the test directory\n",
    "for name, model in classifiers.items():\n",
    "    model_path = os.path.join(test_dir, f'{name}.joblib')\n",
    "    joblib.dump(model, model_path)\n",
    "    print(f\"Model {name} saved to {model_path}\")"
   ]
  }
 ],
 "metadata": {
  "kernelspec": {
   "display_name": "Python 3",
   "language": "python",
   "name": "python3"
  },
  "language_info": {
   "codemirror_mode": {
    "name": "ipython",
    "version": 3
   },
   "file_extension": ".py",
   "mimetype": "text/x-python",
   "name": "python",
   "nbconvert_exporter": "python",
   "pygments_lexer": "ipython3",
   "version": "3.10.3"
  }
 },
 "nbformat": 4,
 "nbformat_minor": 5
}
